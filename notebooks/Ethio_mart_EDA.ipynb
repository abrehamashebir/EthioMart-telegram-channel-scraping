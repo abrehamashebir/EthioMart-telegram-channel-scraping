{
 "cells": [
  {
   "cell_type": "code",
   "execution_count": 1,
   "metadata": {},
   "outputs": [],
   "source": [
    "import pandas as pd\n",
    "import numpy as np\n",
    "import matplotlib.pyplot as plt\n",
    "# import seaborn as sns\n",
    "import json\n",
    "from pandas import json_normalize"
   ]
  },
  {
   "cell_type": "code",
   "execution_count": 2,
   "metadata": {},
   "outputs": [],
   "source": [
    "import os, sys"
   ]
  },
  {
   "cell_type": "code",
   "execution_count": 3,
   "metadata": {},
   "outputs": [],
   "source": [
    "current_dir = os.getcwd()\n",
    "parrent_dir = os.path.dirname(current_dir)\n",
    "sys.path.insert(0,parrent_dir)"
   ]
  },
  {
   "cell_type": "code",
   "execution_count": 4,
   "metadata": {},
   "outputs": [],
   "source": [
    "from scripts.load_data import load_data\n",
    "from scripts._clean_text import _normalize_text"
   ]
  },
  {
   "cell_type": "code",
   "execution_count": 5,
   "metadata": {},
   "outputs": [],
   "source": [
    "df = pd.read_csv('../datasets/telegram_data.csv') "
   ]
  },
  {
   "cell_type": "code",
   "execution_count": 6,
   "metadata": {},
   "outputs": [
    {
     "data": {
      "text/html": [
       "<div>\n",
       "<style scoped>\n",
       "    .dataframe tbody tr th:only-of-type {\n",
       "        vertical-align: middle;\n",
       "    }\n",
       "\n",
       "    .dataframe tbody tr th {\n",
       "        vertical-align: top;\n",
       "    }\n",
       "\n",
       "    .dataframe thead th {\n",
       "        text-align: right;\n",
       "    }\n",
       "</style>\n",
       "<table border=\"1\" class=\"dataframe\">\n",
       "  <thead>\n",
       "    <tr style=\"text-align: right;\">\n",
       "      <th></th>\n",
       "      <th>Channel Title</th>\n",
       "      <th>Channel Username</th>\n",
       "      <th>ID</th>\n",
       "      <th>Message</th>\n",
       "      <th>Date</th>\n",
       "      <th>Media Path</th>\n",
       "    </tr>\n",
       "  </thead>\n",
       "  <tbody>\n",
       "    <tr>\n",
       "      <th>0</th>\n",
       "      <td>NEVA COMPUTER®</td>\n",
       "      <td>@nevacomputer</td>\n",
       "      <td>8719</td>\n",
       "      <td>[No Text]</td>\n",
       "      <td>2025-01-04 13:51:49+00:00</td>\n",
       "      <td>NaN</td>\n",
       "    </tr>\n",
       "    <tr>\n",
       "      <th>1</th>\n",
       "      <td>NEVA COMPUTER®</td>\n",
       "      <td>@nevacomputer</td>\n",
       "      <td>8718</td>\n",
       "      <td>[No Text]</td>\n",
       "      <td>2024-12-07 06:55:36+00:00</td>\n",
       "      <td>photos\\@nevacomputer_8718.jpg</td>\n",
       "    </tr>\n",
       "    <tr>\n",
       "      <th>2</th>\n",
       "      <td>NEVA COMPUTER®</td>\n",
       "      <td>@nevacomputer</td>\n",
       "      <td>8717</td>\n",
       "      <td>[No Text]</td>\n",
       "      <td>2024-12-07 06:55:36+00:00</td>\n",
       "      <td>photos\\@nevacomputer_8717.jpg</td>\n",
       "    </tr>\n",
       "    <tr>\n",
       "      <th>3</th>\n",
       "      <td>NEVA COMPUTER®</td>\n",
       "      <td>@nevacomputer</td>\n",
       "      <td>8716</td>\n",
       "      <td>[No Text]</td>\n",
       "      <td>2024-12-07 06:55:36+00:00</td>\n",
       "      <td>photos\\@nevacomputer_8716.jpg</td>\n",
       "    </tr>\n",
       "    <tr>\n",
       "      <th>4</th>\n",
       "      <td>NEVA COMPUTER®</td>\n",
       "      <td>@nevacomputer</td>\n",
       "      <td>8715</td>\n",
       "      <td>Very portable and can do multi-task\\n\\n#HP ELI...</td>\n",
       "      <td>2024-12-07 06:55:36+00:00</td>\n",
       "      <td>photos\\@nevacomputer_8715.jpg</td>\n",
       "    </tr>\n",
       "    <tr>\n",
       "      <th>...</th>\n",
       "      <td>...</td>\n",
       "      <td>...</td>\n",
       "      <td>...</td>\n",
       "      <td>...</td>\n",
       "      <td>...</td>\n",
       "      <td>...</td>\n",
       "    </tr>\n",
       "    <tr>\n",
       "      <th>195</th>\n",
       "      <td>NEVA COMPUTER®</td>\n",
       "      <td>@nevacomputer</td>\n",
       "      <td>8513</td>\n",
       "      <td>[No Text]</td>\n",
       "      <td>2024-04-30 10:25:17+00:00</td>\n",
       "      <td>photos\\@nevacomputer_8513.jpg</td>\n",
       "    </tr>\n",
       "    <tr>\n",
       "      <th>196</th>\n",
       "      <td>NEVA COMPUTER®</td>\n",
       "      <td>@nevacomputer</td>\n",
       "      <td>8512</td>\n",
       "      <td>[No Text]</td>\n",
       "      <td>2024-04-30 10:25:17+00:00</td>\n",
       "      <td>photos\\@nevacomputer_8512.jpg</td>\n",
       "    </tr>\n",
       "    <tr>\n",
       "      <th>197</th>\n",
       "      <td>NEVA COMPUTER®</td>\n",
       "      <td>@nevacomputer</td>\n",
       "      <td>8511</td>\n",
       "      <td>[No Text]</td>\n",
       "      <td>2024-04-30 10:25:17+00:00</td>\n",
       "      <td>photos\\@nevacomputer_8511.jpg</td>\n",
       "    </tr>\n",
       "    <tr>\n",
       "      <th>198</th>\n",
       "      <td>NEVA COMPUTER®</td>\n",
       "      <td>@nevacomputer</td>\n",
       "      <td>8510</td>\n",
       "      <td>#NEVACOMPUTER\\nእንዳያመልጠዎ🔥\\n#ለተማሪቅናሽ\\n\\n🅑︎🅡︎🅐︎🅝︎...</td>\n",
       "      <td>2024-04-30 10:25:17+00:00</td>\n",
       "      <td>photos\\@nevacomputer_8510.jpg</td>\n",
       "    </tr>\n",
       "    <tr>\n",
       "      <th>199</th>\n",
       "      <td>NEVA COMPUTER®</td>\n",
       "      <td>@nevacomputer</td>\n",
       "      <td>8509</td>\n",
       "      <td>[No Text]</td>\n",
       "      <td>2024-04-30 10:24:39+00:00</td>\n",
       "      <td>photos\\@nevacomputer_8509.jpg</td>\n",
       "    </tr>\n",
       "  </tbody>\n",
       "</table>\n",
       "<p>200 rows × 6 columns</p>\n",
       "</div>"
      ],
      "text/plain": [
       "      Channel Title Channel Username    ID  \\\n",
       "0    NEVA COMPUTER®    @nevacomputer  8719   \n",
       "1    NEVA COMPUTER®    @nevacomputer  8718   \n",
       "2    NEVA COMPUTER®    @nevacomputer  8717   \n",
       "3    NEVA COMPUTER®    @nevacomputer  8716   \n",
       "4    NEVA COMPUTER®    @nevacomputer  8715   \n",
       "..              ...              ...   ...   \n",
       "195  NEVA COMPUTER®    @nevacomputer  8513   \n",
       "196  NEVA COMPUTER®    @nevacomputer  8512   \n",
       "197  NEVA COMPUTER®    @nevacomputer  8511   \n",
       "198  NEVA COMPUTER®    @nevacomputer  8510   \n",
       "199  NEVA COMPUTER®    @nevacomputer  8509   \n",
       "\n",
       "                                               Message  \\\n",
       "0                                            [No Text]   \n",
       "1                                            [No Text]   \n",
       "2                                            [No Text]   \n",
       "3                                            [No Text]   \n",
       "4    Very portable and can do multi-task\\n\\n#HP ELI...   \n",
       "..                                                 ...   \n",
       "195                                          [No Text]   \n",
       "196                                          [No Text]   \n",
       "197                                          [No Text]   \n",
       "198  #NEVACOMPUTER\\nእንዳያመልጠዎ🔥\\n#ለተማሪቅናሽ\\n\\n🅑︎🅡︎🅐︎🅝︎...   \n",
       "199                                          [No Text]   \n",
       "\n",
       "                          Date                     Media Path  \n",
       "0    2025-01-04 13:51:49+00:00                            NaN  \n",
       "1    2024-12-07 06:55:36+00:00  photos\\@nevacomputer_8718.jpg  \n",
       "2    2024-12-07 06:55:36+00:00  photos\\@nevacomputer_8717.jpg  \n",
       "3    2024-12-07 06:55:36+00:00  photos\\@nevacomputer_8716.jpg  \n",
       "4    2024-12-07 06:55:36+00:00  photos\\@nevacomputer_8715.jpg  \n",
       "..                         ...                            ...  \n",
       "195  2024-04-30 10:25:17+00:00  photos\\@nevacomputer_8513.jpg  \n",
       "196  2024-04-30 10:25:17+00:00  photos\\@nevacomputer_8512.jpg  \n",
       "197  2024-04-30 10:25:17+00:00  photos\\@nevacomputer_8511.jpg  \n",
       "198  2024-04-30 10:25:17+00:00  photos\\@nevacomputer_8510.jpg  \n",
       "199  2024-04-30 10:24:39+00:00  photos\\@nevacomputer_8509.jpg  \n",
       "\n",
       "[200 rows x 6 columns]"
      ]
     },
     "execution_count": 6,
     "metadata": {},
     "output_type": "execute_result"
    }
   ],
   "source": [
    "df"
   ]
  },
  {
   "cell_type": "code",
   "execution_count": 7,
   "metadata": {},
   "outputs": [],
   "source": [
    "df['Message'] = df['Message'].replace('[No Text]','')"
   ]
  },
  {
   "cell_type": "code",
   "execution_count": 9,
   "metadata": {},
   "outputs": [
    {
     "data": {
      "text/plain": [
       "0                                                       \n",
       "1                                                       \n",
       "2                                                       \n",
       "3                                                       \n",
       "4      Very portable and can do multi-task\\n\\n#HP ELI...\n",
       "                             ...                        \n",
       "195                                                     \n",
       "196                                                     \n",
       "197                                                     \n",
       "198    #NEVACOMPUTER\\nእንዳያመልጠዎ🔥\\n#ለተማሪቅናሽ\\n\\n🅑︎🅡︎🅐︎🅝︎...\n",
       "199                                                     \n",
       "Name: Message, Length: 200, dtype: object"
      ]
     },
     "execution_count": 9,
     "metadata": {},
     "output_type": "execute_result"
    }
   ],
   "source": [
    "df['Message']"
   ]
  },
  {
   "cell_type": "code",
   "execution_count": 10,
   "metadata": {},
   "outputs": [
    {
     "ename": "AttributeError",
     "evalue": "'Series' object has no attribute 'strip'",
     "output_type": "error",
     "traceback": [
      "\u001b[1;31m---------------------------------------------------------------------------\u001b[0m",
      "\u001b[1;31mAttributeError\u001b[0m                            Traceback (most recent call last)",
      "\u001b[1;32m~\\AppData\\Local\\Temp\\ipykernel_18512\\1332801374.py\u001b[0m in \u001b[0;36m?\u001b[1;34m()\u001b[0m\n\u001b[1;32m----> 1\u001b[1;33m \u001b[0m_normalize_text\u001b[0m\u001b[1;33m(\u001b[0m\u001b[0mdf\u001b[0m\u001b[1;33m[\u001b[0m\u001b[1;34m'Message'\u001b[0m\u001b[1;33m]\u001b[0m\u001b[1;33m)\u001b[0m\u001b[1;33m\u001b[0m\u001b[1;33m\u001b[0m\u001b[0m\n\u001b[0m",
      "\u001b[1;32mc:\\Users\\Abreham\\Documents\\Ml_projects\\EthioMart-telegram-channel-scraping\\scripts\\_clean_text.py\u001b[0m in \u001b[0;36m?\u001b[1;34m(text)\u001b[0m\n\u001b[0;32m      3\u001b[0m \u001b[1;32mdef\u001b[0m \u001b[0m_normalize_text\u001b[0m\u001b[1;33m(\u001b[0m\u001b[0mtext\u001b[0m\u001b[1;33m)\u001b[0m\u001b[1;33m:\u001b[0m\u001b[1;33m\u001b[0m\u001b[1;33m\u001b[0m\u001b[0m\n\u001b[0;32m      4\u001b[0m         \u001b[1;34m\"\"\"Normalize text by removing special characters, extra spaces, etc.\"\"\"\u001b[0m\u001b[1;33m\u001b[0m\u001b[1;33m\u001b[0m\u001b[0m\n\u001b[1;32m----> 5\u001b[1;33m         \u001b[0mtext\u001b[0m \u001b[1;33m=\u001b[0m \u001b[0mtext\u001b[0m\u001b[1;33m.\u001b[0m\u001b[0mstrip\u001b[0m\u001b[1;33m(\u001b[0m\u001b[1;33m)\u001b[0m  \u001b[1;31m# Remove leading/trailing spaces\u001b[0m\u001b[1;33m\u001b[0m\u001b[1;33m\u001b[0m\u001b[0m\n\u001b[0m\u001b[0;32m      6\u001b[0m         \u001b[0mtext\u001b[0m \u001b[1;33m=\u001b[0m \u001b[0mre\u001b[0m\u001b[1;33m.\u001b[0m\u001b[0msub\u001b[0m\u001b[1;33m(\u001b[0m\u001b[1;34mr\"[^\\w\\s፡።፣፤፥፦፧፨᎐᎑᎒]\"\u001b[0m\u001b[1;33m,\u001b[0m \u001b[1;34m\"\"\u001b[0m\u001b[1;33m,\u001b[0m \u001b[0mtext\u001b[0m\u001b[1;33m)\u001b[0m  \u001b[1;31m# Remove non-Amharic special characters\u001b[0m\u001b[1;33m\u001b[0m\u001b[1;33m\u001b[0m\u001b[0m\n\u001b[0;32m      7\u001b[0m         \u001b[0mtext\u001b[0m \u001b[1;33m=\u001b[0m \u001b[0mre\u001b[0m\u001b[1;33m.\u001b[0m\u001b[0msub\u001b[0m\u001b[1;33m(\u001b[0m\u001b[1;34mr\"\\s+\"\u001b[0m\u001b[1;33m,\u001b[0m \u001b[1;34m\" \"\u001b[0m\u001b[1;33m,\u001b[0m \u001b[0mtext\u001b[0m\u001b[1;33m)\u001b[0m  \u001b[1;31m# Replace multiple spaces with a single space\u001b[0m\u001b[1;33m\u001b[0m\u001b[1;33m\u001b[0m\u001b[0m\n\u001b[0;32m      8\u001b[0m         \u001b[1;32mreturn\u001b[0m \u001b[0mtext\u001b[0m\u001b[1;33m\u001b[0m\u001b[1;33m\u001b[0m\u001b[0m\n",
      "\u001b[1;32mc:\\Users\\Abreham\\Documents\\Ml_projects\\EthioMart-telegram-channel-scraping\\.venv\\Lib\\site-packages\\pandas\\core\\generic.py\u001b[0m in \u001b[0;36m?\u001b[1;34m(self, name)\u001b[0m\n\u001b[0;32m   6295\u001b[0m             \u001b[1;32mand\u001b[0m \u001b[0mname\u001b[0m \u001b[1;32mnot\u001b[0m \u001b[1;32min\u001b[0m \u001b[0mself\u001b[0m\u001b[1;33m.\u001b[0m\u001b[0m_accessors\u001b[0m\u001b[1;33m\u001b[0m\u001b[1;33m\u001b[0m\u001b[0m\n\u001b[0;32m   6296\u001b[0m             \u001b[1;32mand\u001b[0m \u001b[0mself\u001b[0m\u001b[1;33m.\u001b[0m\u001b[0m_info_axis\u001b[0m\u001b[1;33m.\u001b[0m\u001b[0m_can_hold_identifiers_and_holds_name\u001b[0m\u001b[1;33m(\u001b[0m\u001b[0mname\u001b[0m\u001b[1;33m)\u001b[0m\u001b[1;33m\u001b[0m\u001b[1;33m\u001b[0m\u001b[0m\n\u001b[0;32m   6297\u001b[0m         \u001b[1;33m)\u001b[0m\u001b[1;33m:\u001b[0m\u001b[1;33m\u001b[0m\u001b[1;33m\u001b[0m\u001b[0m\n\u001b[0;32m   6298\u001b[0m             \u001b[1;32mreturn\u001b[0m \u001b[0mself\u001b[0m\u001b[1;33m[\u001b[0m\u001b[0mname\u001b[0m\u001b[1;33m]\u001b[0m\u001b[1;33m\u001b[0m\u001b[1;33m\u001b[0m\u001b[0m\n\u001b[1;32m-> 6299\u001b[1;33m         \u001b[1;32mreturn\u001b[0m \u001b[0mobject\u001b[0m\u001b[1;33m.\u001b[0m\u001b[0m__getattribute__\u001b[0m\u001b[1;33m(\u001b[0m\u001b[0mself\u001b[0m\u001b[1;33m,\u001b[0m \u001b[0mname\u001b[0m\u001b[1;33m)\u001b[0m\u001b[1;33m\u001b[0m\u001b[1;33m\u001b[0m\u001b[0m\n\u001b[0m",
      "\u001b[1;31mAttributeError\u001b[0m: 'Series' object has no attribute 'strip'"
     ]
    }
   ],
   "source": [
    "_normalize_text(df['Message'])"
   ]
  }
 ],
 "metadata": {
  "kernelspec": {
   "display_name": ".venv",
   "language": "python",
   "name": "python3"
  },
  "language_info": {
   "codemirror_mode": {
    "name": "ipython",
    "version": 3
   },
   "file_extension": ".py",
   "mimetype": "text/x-python",
   "name": "python",
   "nbconvert_exporter": "python",
   "pygments_lexer": "ipython3",
   "version": "3.12.2"
  }
 },
 "nbformat": 4,
 "nbformat_minor": 2
}
